{
  "nbformat": 4,
  "nbformat_minor": 0,
  "metadata": {
    "colab": {
      "name": "Manjunath_D_Batch6_Assignment2b.ipynb",
      "version": "0.3.2",
      "provenance": []
    }
  },
  "cells": [
    {
      "cell_type": "markdown",
      "metadata": {
        "id": "view-in-github",
        "colab_type": "text"
      },
      "source": [
        "[View in Colaboratory](https://colab.research.google.com/github/rohithmanjunath/mlblr_assignment2/blob/master/Manjunath_D_Batch6_Assignment2b.ipynb)"
      ]
    },
    {
      "metadata": {
        "id": "Il4zAZ_AkBl8",
        "colab_type": "code",
        "colab": {
          "base_uri": "https://localhost:8080/",
          "height": 508
        },
        "outputId": "5e70f2b8-5651-4663-cfd7-496581e62228"
      },
      "cell_type": "code",
      "source": [
        "import numpy as np\n",
        "\n",
        "#sigmoid\n",
        "def sigmoid(x):\n",
        "  return (1/(1+np.exp(-x)))\n",
        "\n",
        "def derivatives_sigmoid(x):\n",
        "  return (x*(1-x))\n",
        "  \n",
        "def random_init(size, low=0.0, high=1.0):\n",
        "  return np.random.uniform(size=size, low=low, high=high)\n",
        "\n",
        "learning_rate = 0.1\n",
        "\n",
        "#Step 0\n",
        "X = np.array([[1,0,1,0],[1,0,1,1],[0,1,0,1]])\n",
        "y = np.array([[1],[1],[0]])\n",
        "\n",
        "#Step 1\n",
        "wh = random_init((4,3))\n",
        "bh = random_init((1,3))\n",
        "wout = random_init((3,1))\n",
        "bout = random_init((1,1))\n",
        "\n",
        "print(\"Input, X:\\n\")\n",
        "print(X)\n",
        "print(\"Target Output, y:\\n\")\n",
        "print(y)\n",
        "print(\"Hidden layer weight, wh:\\n\")\n",
        "print(wh)\n",
        "print(\"Hidden layer bias, bh:\\n\")\n",
        "print(bh)\n",
        "print(\"Output layer weight, wout:\\n\")\n",
        "print(wout)\n",
        "print(\"Hidden layer bias, bout:\\n\")\n",
        "print(bout)\n",
        "\n"
      ],
      "execution_count": 2,
      "outputs": [
        {
          "output_type": "stream",
          "text": [
            "Input, X:\n",
            "\n",
            "[[1 0 1 0]\n",
            " [1 0 1 1]\n",
            " [0 1 0 1]]\n",
            "Target Output, y:\n",
            "\n",
            "[[1]\n",
            " [1]\n",
            " [0]]\n",
            "Hidden layer weight, wh:\n",
            "\n",
            "[[0.10384061 0.99592364 0.41427757]\n",
            " [0.55001171 0.46159552 0.55099996]\n",
            " [0.78672944 0.31091351 0.67968617]\n",
            " [0.46893092 0.50471785 0.33637801]]\n",
            "Hidden layer bias, bh:\n",
            "\n",
            "[[0.6159282  0.76642111 0.71499275]]\n",
            "Output layer weight, wout:\n",
            "\n",
            "[[0.0333872 ]\n",
            " [0.19314587]\n",
            " [0.5371915 ]]\n",
            "Hidden layer bias, bout:\n",
            "\n",
            "[[0.58583441]]\n"
          ],
          "name": "stdout"
        }
      ]
    }
  ]
}