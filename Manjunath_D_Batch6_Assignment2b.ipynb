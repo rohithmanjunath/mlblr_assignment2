{
  "nbformat": 4,
  "nbformat_minor": 0,
  "metadata": {
    "colab": {
      "name": "Manjunath_D_Batch6_Assignment2b.ipynb",
      "version": "0.3.2",
      "provenance": []
    }
  },
  "cells": [
    {
      "cell_type": "markdown",
      "metadata": {
        "id": "view-in-github",
        "colab_type": "text"
      },
      "source": [
        "[View in Colaboratory](https://colab.research.google.com/github/rohithmanjunath/mlblr_assignment2/blob/master/Manjunath_D_Batch6_Assignment2b.ipynb)"
      ]
    },
    {
      "metadata": {
        "id": "Il4zAZ_AkBl8",
        "colab_type": "code",
        "colab": {
          "base_uri": "https://localhost:8080/",
          "height": 508
        },
        "outputId": "411a0536-5833-4965-8726-c174327f71a1"
      },
      "cell_type": "code",
      "source": [
        "import numpy as np\n",
        "\n",
        "#sigmoid\n",
        "def sigmoid(x):\n",
        "  return (1/(1+np.exp(-x)))\n",
        "\n",
        "def derivatives_sigmoid(x):\n",
        "  return (x*(1-x))\n",
        "  \n",
        "def random_init(size, low=0.0, high=1.0):\n",
        "  return np.random.uniform(size=size, low=low, high=high)\n",
        "\n",
        "learning_rate = 0.1\n",
        "\n",
        "#Step 0\n",
        "X = np.array([[1,0,1,0],[1,0,1,1],[0,1,0,1]])\n",
        "y = np.array([[1],[1],[0]])\n",
        "\n",
        "#Step 1\n",
        "wh = random_init((4,3))\n",
        "bh = random_init((1,3))\n",
        "wout = random_init((3,1))\n",
        "bout = random_init((1,1))\n",
        "\n",
        "print(\"Input, X:\\n\")\n",
        "print(X)\n",
        "print(\"Target Output, y:\\n\")\n",
        "print(y)\n",
        "print(\"Hidden layer weight, wh:\\n\")\n",
        "print(wh)\n",
        "print(\"Hidden layer bias, bh:\\n\")\n",
        "print(bh)\n",
        "print(\"Output layer weight, wout:\\n\")\n",
        "print(wout)\n",
        "print(\"Hidden layer bias, bout:\\n\")\n",
        "print(bout)\n",
        "\n"
      ],
      "execution_count": 19,
      "outputs": [
        {
          "output_type": "stream",
          "text": [
            "Input, X:\n",
            "\n",
            "[[1 0 1 0]\n",
            " [1 0 1 1]\n",
            " [0 1 0 1]]\n",
            "Target Output, y:\n",
            "\n",
            "[[1]\n",
            " [1]\n",
            " [0]]\n",
            "Hidden layer weight, wh:\n",
            "\n",
            "[[0.59694117 0.7701998  0.81848355]\n",
            " [0.19574107 0.73111538 0.6055217 ]\n",
            " [0.72647895 0.15408443 0.36265119]\n",
            " [0.6770187  0.92189296 0.31618089]]\n",
            "Hidden layer bias, bh:\n",
            "\n",
            "[[0.9726875  0.14202168 0.60482676]]\n",
            "Output layer weight, wout:\n",
            "\n",
            "[[0.30297908]\n",
            " [0.80922413]\n",
            " [0.5428705 ]]\n",
            "Hidden layer bias, bout:\n",
            "\n",
            "[[0.69546112]]\n"
          ],
          "name": "stdout"
        }
      ]
    },
    {
      "metadata": {
        "id": "CF_69zq4DOeG",
        "colab_type": "code",
        "colab": {
          "base_uri": "https://localhost:8080/",
          "height": 108
        },
        "outputId": "420f5edd-1066-4400-f41d-a17d60d142dc"
      },
      "cell_type": "code",
      "source": [
        "#Step 2\n",
        "hidden_layer_input = np.dot(X, wh) + bh\n",
        "print(\"Hidden layer input, hidden_layer_input:\\n\")\n",
        "print(hidden_layer_input)"
      ],
      "execution_count": 20,
      "outputs": [
        {
          "output_type": "stream",
          "text": [
            "Hidden layer input, hidden_layer_input:\n",
            "\n",
            "[[2.29610761 1.06630591 1.7859615 ]\n",
            " [2.97312632 1.98819887 2.10214238]\n",
            " [1.84544727 1.79503002 1.52652934]]\n"
          ],
          "name": "stdout"
        }
      ]
    },
    {
      "metadata": {
        "id": "QYCAWUE9EYlX",
        "colab_type": "code",
        "colab": {
          "base_uri": "https://localhost:8080/",
          "height": 108
        },
        "outputId": "edde0838-c37b-4973-98c8-c49bbc7ea560"
      },
      "cell_type": "code",
      "source": [
        "#Step 3\n",
        "hiddenlayer_activations = sigmoid(hidden_layer_input)\n",
        "print(\"Hidden layer activation, hiddenlayer_activations:\\n\")\n",
        "print(hiddenlayer_activations)"
      ],
      "execution_count": 21,
      "outputs": [
        {
          "output_type": "stream",
          "text": [
            "Hidden layer activation, hiddenlayer_activations:\n",
            "\n",
            "[[0.90855416 0.74389377 0.85643143]\n",
            " [0.95134519 0.87955246 0.89111123]\n",
            " [0.86359167 0.85754287 0.82149795]]\n"
          ],
          "name": "stdout"
        }
      ]
    },
    {
      "metadata": {
        "id": "gOeD2GawExIl",
        "colab_type": "code",
        "colab": {
          "base_uri": "https://localhost:8080/",
          "height": 199
        },
        "outputId": "03875e9a-fa5d-473b-d3ac-d73892d934a9"
      },
      "cell_type": "code",
      "source": [
        "#Step 4\n",
        "output_layer_input = np.dot(hiddenlayer_activations, wout ) + bout\n",
        "output = sigmoid(output_layer_input)\n",
        "print(\"Output layer input matrix, output_layer_input:\\n\")\n",
        "print(output_layer_input)\n",
        "print(\"Output layer output matrix, output:\\n\")\n",
        "print(output)"
      ],
      "execution_count": 22,
      "outputs": [
        {
          "output_type": "stream",
          "text": [
            "Output layer input matrix, output_layer_input:\n",
            "\n",
            "[[2.03764217]\n",
            " [2.17921188]\n",
            " [2.09702271]]\n",
            "Output layer output matrix, output:\n",
            "\n",
            "[[0.88469296]\n",
            " [0.89836714]\n",
            " [0.89061347]]\n"
          ],
          "name": "stdout"
        }
      ]
    },
    {
      "metadata": {
        "id": "LKo_HN99FJby",
        "colab_type": "code",
        "colab": {
          "base_uri": "https://localhost:8080/",
          "height": 108
        },
        "outputId": "209706da-d7ab-46a1-ae95-2cd1e5886065"
      },
      "cell_type": "code",
      "source": [
        "#Step 5\n",
        "E = y-output\n",
        "print(\"Error in training output, E:\\n\")\n",
        "print(E)"
      ],
      "execution_count": 24,
      "outputs": [
        {
          "output_type": "stream",
          "text": [
            "Error in training output, E:\n",
            "\n",
            "[[ 0.11530704]\n",
            " [ 0.10163286]\n",
            " [-0.89061347]]\n"
          ],
          "name": "stdout"
        }
      ]
    },
    {
      "metadata": {
        "id": "hkICdSrUFeqv",
        "colab_type": "code",
        "colab": {
          "base_uri": "https://localhost:8080/",
          "height": 199
        },
        "outputId": "37f672e3-ea44-4c52-9042-87516fcfb06e"
      },
      "cell_type": "code",
      "source": [
        "#Step 6\n",
        "Slope_output_layer= derivatives_sigmoid(output)\n",
        "Slope_hidden_layer = derivatives_sigmoid(hiddenlayer_activations)\n",
        "print(\"Slope of output layer's output, Slope_output_layer:\\n\")\n",
        "print(Slope_output_layer)\n",
        "print(\"Slope of hidden layer's output , Slope_hidden_layer:\\n\")\n",
        "print(Slope_hidden_layer)"
      ],
      "execution_count": 26,
      "outputs": [
        {
          "output_type": "stream",
          "text": [
            "Slope of output layer's output, Slope_output_layer:\n",
            "\n",
            "[[0.10201133]\n",
            " [0.09130362]\n",
            " [0.09742112]]\n",
            "Slope of hidden layer's output , Slope_hidden_layer:\n",
            "\n",
            "[[0.0830835  0.19051583 0.12295664]\n",
            " [0.04628752 0.10593993 0.097032  ]\n",
            " [0.1178011  0.1221631  0.14663907]]\n"
          ],
          "name": "stdout"
        }
      ]
    },
    {
      "metadata": {
        "id": "Uo3so_faF0TH",
        "colab_type": "code",
        "colab": {
          "base_uri": "https://localhost:8080/",
          "height": 108
        },
        "outputId": "13db2ff1-8b7f-4e4d-e87b-27ce43ad0236"
      },
      "cell_type": "code",
      "source": [
        "#Step 7\n",
        "d_output = E * Slope_output_layer * learning_rate\n",
        "print(\"Delta of output layer, d_output:\\n\")\n",
        "print(d_output)"
      ],
      "execution_count": 27,
      "outputs": [
        {
          "output_type": "stream",
          "text": [
            "Delta of output layer, d_output:\n",
            "\n",
            "[[ 0.00117626]\n",
            " [ 0.00092794]\n",
            " [-0.00867646]]\n"
          ],
          "name": "stdout"
        }
      ]
    },
    {
      "metadata": {
        "id": "Fb2k9_vTGFzg",
        "colab_type": "code",
        "colab": {
          "base_uri": "https://localhost:8080/",
          "height": 108
        },
        "outputId": "4ef8f056-e197-46d8-82ed-b436418bd981"
      },
      "cell_type": "code",
      "source": [
        "#Step 8\n",
        "Error_at_hidden_layer = np.dot(d_output, wout.T)\n",
        "print(\"Error in hidden layer's output, Error_at_hidden_layer:\\n\")\n",
        "print(Error_at_hidden_layer)"
      ],
      "execution_count": 29,
      "outputs": [
        {
          "output_type": "stream",
          "text": [
            "Error in hidden layer's output, Error_at_hidden_layer:\n",
            "\n",
            "[[ 0.00035638  0.00095186  0.00063856]\n",
            " [ 0.00028115  0.00075092  0.00050375]\n",
            " [-0.00262878 -0.0070212  -0.00471019]]\n"
          ],
          "name": "stdout"
        }
      ]
    },
    {
      "metadata": {
        "id": "mSGkNXTYGUxn",
        "colab_type": "code",
        "colab": {
          "base_uri": "https://localhost:8080/",
          "height": 108
        },
        "outputId": "b5cd7a95-5882-4163-d514-a6b50c099fbb"
      },
      "cell_type": "code",
      "source": [
        "#Step 9\n",
        "d_hiddenlayer = Error_at_hidden_layer * Slope_hidden_layer\n",
        "print(\"Delta of hidden layer, d_hiddenlayer:\\n\")\n",
        "print(d_hiddenlayer)"
      ],
      "execution_count": 31,
      "outputs": [
        {
          "output_type": "stream",
          "text": [
            "Delta of hidden layer, d_hiddenlayer:\n",
            "\n",
            "[[ 2.96095379e-05  1.81344382e-04  7.85149634e-05]\n",
            " [ 1.30136379e-05  7.95519253e-05  4.88802507e-05]\n",
            " [-3.09673716e-04 -8.57731275e-04 -6.90698194e-04]]\n"
          ],
          "name": "stdout"
        }
      ]
    },
    {
      "metadata": {
        "id": "h73LXoDxGp5M",
        "colab_type": "code",
        "colab": {
          "base_uri": "https://localhost:8080/",
          "height": 217
        },
        "outputId": "99ab622d-02bb-4728-e121-26b7dfb9e3a2"
      },
      "cell_type": "code",
      "source": [
        "#Step 10: Update weight at both output and hidden layer\n",
        "wout = wout + np.dot(np.transpose(hiddenlayer_activations), d_output) * learning_rate\n",
        "wh = wh+ np.dot(np.transpose(X), d_hiddenlayer) * learning_rate\n",
        "print(\"New Output layer weight, wout:\\n\")\n",
        "print(wout)\n",
        "print(\"New Hidden layer weight, wh:\\n\") \n",
        "print(wh)"
      ],
      "execution_count": 34,
      "outputs": [
        {
          "output_type": "stream",
          "text": [
            "New Output layer weight, wout:\n",
            "\n",
            "[[0.30131665]\n",
            " [0.80749936]\n",
            " [0.54128248]]\n",
            "New Hidden layer weight, wh:\n",
            "\n",
            "[[0.59695396 0.77027807 0.81852177]\n",
            " [0.19564817 0.73085806 0.60531449]\n",
            " [0.72649173 0.1541627  0.36268941]\n",
            " [0.6769297  0.92165951 0.31598834]]\n"
          ],
          "name": "stdout"
        }
      ]
    },
    {
      "metadata": {
        "id": "0EC71i-nHLOp",
        "colab_type": "code",
        "colab": {}
      },
      "cell_type": "code",
      "source": [
        ""
      ],
      "execution_count": 0,
      "outputs": []
    },
    {
      "metadata": {
        "id": "3S2aWmfZHeRf",
        "colab_type": "code",
        "colab": {
          "base_uri": "https://localhost:8080/",
          "height": 90
        },
        "outputId": "7ab085c6-3ad3-450f-cffd-b7f23a383f5b"
      },
      "cell_type": "code",
      "source": [
        "#Step 11: Update biases at both output and hidden layer\n",
        "bh = bh + np.sum(d_hiddenlayer, axis=0) * learning_rate\n",
        "bout = bout + np.sum(d_output, axis=0) * learning_rate\n",
        "print(\"New Hidden layer bias, bh:\") \n",
        "print(bh)\n",
        "print(\"New Output layer bias, bout:\")\n",
        "print(bout)"
      ],
      "execution_count": 37,
      "outputs": [
        {
          "output_type": "stream",
          "text": [
            "New Hidden layer bias, bh:\n",
            "[[0.97260738 0.14184263 0.60465777]]\n",
            "New Output layer bias, bout:\n",
            "[[0.69348944]]\n"
          ],
          "name": "stdout"
        }
      ]
    },
    {
      "metadata": {
        "id": "HdFmGewGG6Qn",
        "colab_type": "code",
        "colab": {}
      },
      "cell_type": "code",
      "source": [
        ""
      ],
      "execution_count": 0,
      "outputs": []
    }
  ]
}