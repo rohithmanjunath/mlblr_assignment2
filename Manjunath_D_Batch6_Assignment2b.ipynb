{
  "nbformat": 4,
  "nbformat_minor": 0,
  "metadata": {
    "colab": {
      "name": "Manjunath_D_Batch6_Assignment2b.ipynb",
      "version": "0.3.2",
      "provenance": []
    }
  },
  "cells": [
    {
      "cell_type": "markdown",
      "metadata": {
        "id": "view-in-github",
        "colab_type": "text"
      },
      "source": [
        "[View in Colaboratory](https://colab.research.google.com/github/rohithmanjunath/mlblr_assignment2/blob/master/Manjunath_D_Batch6_Assignment2b.ipynb)"
      ]
    },
    {
      "metadata": {
        "id": "Il4zAZ_AkBl8",
        "colab_type": "code",
        "colab": {
          "base_uri": "https://localhost:8080/",
          "height": 508
        },
        "outputId": "78601bfb-f001-4da1-fb19-c5333332d1a7"
      },
      "cell_type": "code",
      "source": [
        "import numpy as np\n",
        "\n",
        "#sigmoid\n",
        "def sigmoid(x):\n",
        "  return (1/(1+np.exp(-x)))\n",
        "\n",
        "def derivatives_sigmoid(x):\n",
        "  return (x*(1-x))\n",
        "  \n",
        "def random_init(size, low=0.0, high=1.0):\n",
        "  return np.random.uniform(size=size, low=low, high=high)\n",
        "\n",
        "learning_rate = 0.1\n",
        "\n",
        "#Step 0\n",
        "X = np.array([[1,0,1,0],[1,0,1,1],[0,1,0,1]])\n",
        "y = np.array([[1],[1],[0]])\n",
        "\n",
        "#Step 1\n",
        "wh = random_init((4,3))\n",
        "bh = random_init((1,3))\n",
        "wout = random_init((3,1))\n",
        "bout = random_init((1,1))\n",
        "\n",
        "print(\"Input, X:\\n\")\n",
        "print(X)\n",
        "print(\"Target Output, y:\\n\")\n",
        "print(y)\n",
        "print(\"Hidden layer weight, wh:\\n\")\n",
        "print(wh)\n",
        "print(\"Hidden layer bias, bh:\\n\")\n",
        "print(bh)\n",
        "print(\"Output layer weight, wout:\\n\")\n",
        "print(wout)\n",
        "print(\"Hidden layer bias, bout:\\n\")\n",
        "print(bout)\n",
        "\n"
      ],
      "execution_count": 8,
      "outputs": [
        {
          "output_type": "stream",
          "text": [
            "Input, X:\n",
            "\n",
            "[[1 0 1 0]\n",
            " [1 0 1 1]\n",
            " [0 1 0 1]]\n",
            "Target Output, y:\n",
            "\n",
            "[[1]\n",
            " [1]\n",
            " [0]]\n",
            "Hidden layer weight, wh:\n",
            "\n",
            "[[0.54550004 0.82370192 0.08994699]\n",
            " [0.96174297 0.301314   0.53212312]\n",
            " [0.31813994 0.1606409  0.89742398]\n",
            " [0.08382366 0.47725419 0.78025754]]\n",
            "Hidden layer bias, bh:\n",
            "\n",
            "[[0.24428054 0.67119878 0.12892726]]\n",
            "Output layer weight, wout:\n",
            "\n",
            "[[0.34132111]\n",
            " [0.84090067]\n",
            " [0.87431088]]\n",
            "Hidden layer bias, bout:\n",
            "\n",
            "[[0.52671621]]\n"
          ],
          "name": "stdout"
        }
      ]
    },
    {
      "metadata": {
        "id": "CF_69zq4DOeG",
        "colab_type": "code",
        "colab": {
          "base_uri": "https://localhost:8080/",
          "height": 108
        },
        "outputId": "ec6a6145-3dbb-4d5a-9736-8be3a9f81a2b"
      },
      "cell_type": "code",
      "source": [
        "#Step 2\n",
        "hidden_layer_input = np.dot(X, wh) + bh\n",
        "print(\"Hidden layer input, hidden_layer_input:\\n\")\n",
        "print(hidden_layer_input)"
      ],
      "execution_count": 9,
      "outputs": [
        {
          "output_type": "stream",
          "text": [
            "Hidden layer input, hidden_layer_input:\n",
            "\n",
            "[[1.10792052 1.65554159 1.11629823]\n",
            " [1.19174418 2.13279578 1.89655577]\n",
            " [1.28984717 1.44976696 1.44130792]]\n"
          ],
          "name": "stdout"
        }
      ]
    },
    {
      "metadata": {
        "id": "QYCAWUE9EYlX",
        "colab_type": "code",
        "colab": {
          "base_uri": "https://localhost:8080/",
          "height": 108
        },
        "outputId": "a1a44138-cc22-4a52-8f80-8a2637c00433"
      },
      "cell_type": "code",
      "source": [
        "#Step 3\n",
        "hiddenlayer_activations = sigmoid(hidden_layer_input)\n",
        "print(\"Hidden layer activation, hiddenlayer_activations:\\n\")\n",
        "print(hiddenlayer_activations)"
      ],
      "execution_count": 10,
      "outputs": [
        {
          "output_type": "stream",
          "text": [
            "Hidden layer activation, hiddenlayer_activations:\n",
            "\n",
            "[[0.75174123 0.83963861 0.75330143]\n",
            " [0.76705286 0.89405013 0.86950121]\n",
            " [0.78412132 0.80996257 0.80865711]]\n"
          ],
          "name": "stdout"
        }
      ]
    }
  ]
}