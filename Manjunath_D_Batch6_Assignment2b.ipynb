{
  "nbformat": 4,
  "nbformat_minor": 0,
  "metadata": {
    "colab": {
      "name": "Manjunath_D_Batch6_Assignment2b.ipynb",
      "version": "0.3.2",
      "provenance": []
    }
  },
  "cells": [
    {
      "cell_type": "markdown",
      "metadata": {
        "id": "view-in-github",
        "colab_type": "text"
      },
      "source": [
        "[View in Colaboratory](https://colab.research.google.com/github/rohithmanjunath/mlblr_assignment2/blob/master/Manjunath_D_Batch6_Assignment2b.ipynb)"
      ]
    },
    {
      "metadata": {
        "id": "Il4zAZ_AkBl8",
        "colab_type": "code",
        "colab": {
          "base_uri": "https://localhost:8080/",
          "height": 508
        },
        "outputId": "68b84179-dd54-46ba-d032-3b2d4c010156"
      },
      "cell_type": "code",
      "source": [
        "import numpy as np\n",
        "\n",
        "#sigmoid\n",
        "def sigmoid(x):\n",
        "  return (1/(1+np.exp(-x)))\n",
        "\n",
        "def derivatives_sigmoid(x):\n",
        "  return (x*(1-x))\n",
        "  \n",
        "def random_init(size, low=0.0, high=1.0):\n",
        "  return np.random.uniform(size=size, low=low, high=high)\n",
        "\n",
        "learning_rate = 0.1\n",
        "\n",
        "#Step 0\n",
        "X = np.array([[1,0,1,0],[1,0,1,1],[0,1,0,1]])\n",
        "y = np.array([[1],[1],[0]])\n",
        "\n",
        "#Step 1\n",
        "wh = random_init((4,3))\n",
        "bh = random_init((1,3))\n",
        "wout = random_init((3,1))\n",
        "bout = random_init((1,1))\n",
        "\n",
        "print(\"Input, X:\\n\")\n",
        "print(X)\n",
        "print(\"Target Output, y:\\n\")\n",
        "print(y)\n",
        "print(\"Hidden layer weight, wh:\\n\")\n",
        "print(wh)\n",
        "print(\"Hidden layer bias, bh:\\n\")\n",
        "print(bh)\n",
        "print(\"Output layer weight, wout:\\n\")\n",
        "print(wout)\n",
        "print(\"Hidden layer bias, bout:\\n\")\n",
        "print(bout)\n",
        "\n"
      ],
      "execution_count": 3,
      "outputs": [
        {
          "output_type": "stream",
          "text": [
            "Input, X:\n",
            "\n",
            "[[1 0 1 0]\n",
            " [1 0 1 1]\n",
            " [0 1 0 1]]\n",
            "Target Output, y:\n",
            "\n",
            "[[1]\n",
            " [1]\n",
            " [0]]\n",
            "Hidden layer weight, wh:\n",
            "\n",
            "[[0.06986834 0.8004591  0.49682602]\n",
            " [0.50860743 0.06273843 0.64738292]\n",
            " [0.18340584 0.21715629 0.48427051]\n",
            " [0.59631657 0.07779371 0.40413068]]\n",
            "Hidden layer bias, bh:\n",
            "\n",
            "[[0.81551923 0.17184849 0.71255831]]\n",
            "Output layer weight, wout:\n",
            "\n",
            "[[0.43658294]\n",
            " [0.96572261]\n",
            " [0.48935072]]\n",
            "Hidden layer bias, bout:\n",
            "\n",
            "[[0.17946371]]\n"
          ],
          "name": "stdout"
        }
      ]
    },
    {
      "metadata": {
        "id": "CF_69zq4DOeG",
        "colab_type": "code",
        "colab": {
          "base_uri": "https://localhost:8080/",
          "height": 108
        },
        "outputId": "384c465b-e89d-4c0e-cd56-7be39c818873"
      },
      "cell_type": "code",
      "source": [
        "#Step 2\n",
        "hidden_layer_input = np.dot(X, wh) + bh\n",
        "print(\"Hidden layer input, hidden_layer_input:\\n\")\n",
        "print(hidden_layer_input)"
      ],
      "execution_count": 4,
      "outputs": [
        {
          "output_type": "stream",
          "text": [
            "Hidden layer input, hidden_layer_input:\n",
            "\n",
            "[[1.06879341 1.18946388 1.69365484]\n",
            " [1.66510998 1.26725759 2.09778551]\n",
            " [1.92044322 0.31238063 1.76407191]]\n"
          ],
          "name": "stdout"
        }
      ]
    }
  ]
}